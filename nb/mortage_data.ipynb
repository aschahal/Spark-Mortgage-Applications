{
 "cells": [
  {
   "cell_type": "code",
   "execution_count": 5,
   "id": "c67e2ef0-3fb2-4bf3-b60c-766d897d0393",
   "metadata": {},
   "outputs": [
    {
     "name": "stdout",
     "output_type": "stream",
     "text": [
      "Configured Capacity: 25821052928 (24.05 GB)\n",
      "Present Capacity: 13958586368 (13.00 GB)\n",
      "DFS Remaining: 13958557696 (13.00 GB)\n",
      "DFS Used: 28672 (28 KB)\n",
      "DFS Used%: 0.00%\n",
      "Replicated Blocks:\n",
      "\tUnder replicated blocks: 0\n",
      "\tBlocks with corrupt replicas: 0\n",
      "\tMissing blocks: 0\n",
      "\tMissing blocks (with replication factor 1): 0\n",
      "\tLow redundancy blocks with highest priority to recover: 0\n",
      "\tPending deletion blocks: 0\n",
      "Erasure Coded Block Groups: \n",
      "\tLow redundancy block groups: 0\n",
      "\tBlock groups with corrupt internal blocks: 0\n",
      "\tMissing block groups: 0\n",
      "\tLow redundancy blocks with highest priority to recover: 0\n",
      "\tPending deletion blocks: 0\n",
      "\n",
      "-------------------------------------------------\n",
      "Live datanodes (1):\n",
      "\n",
      "Name: 192.168.160.6:9866 (project-5-p5-aschahal-dn-1.project-5-p5-aschahal_default)\n",
      "Hostname: e69220ffb145\n",
      "Decommission Status : Normal\n",
      "Configured Capacity: 25821052928 (24.05 GB)\n",
      "DFS Used: 28672 (28 KB)\n",
      "Non DFS Used: 11845689344 (11.03 GB)\n",
      "DFS Remaining: 13958557696 (13.00 GB)\n",
      "DFS Used%: 0.00%\n",
      "DFS Remaining%: 54.06%\n",
      "Configured Cache Capacity: 0 (0 B)\n",
      "Cache Used: 0 (0 B)\n",
      "Cache Remaining: 0 (0 B)\n",
      "Cache Used%: 100.00%\n",
      "Cache Remaining%: 0.00%\n",
      "Xceivers: 0\n",
      "Last contact: Fri Apr 05 23:09:26 GMT 2024\n",
      "Last Block Report: Fri Apr 05 23:02:19 GMT 2024\n",
      "Num of Blocks: 0\n",
      "\n",
      "\n"
     ]
    }
   ],
   "source": [
    "!hdfs dfsadmin -fs hdfs://nn:9000/ -report"
   ]
  },
  {
   "cell_type": "code",
   "execution_count": 6,
   "id": "eabda71d-050b-40a7-a0fa-437e349a3644",
   "metadata": {},
   "outputs": [],
   "source": [
    "!hdfs dfs -D dfs.replication=1 -cp -f data/*.csv hdfs://nn:9000/"
   ]
  },
  {
   "cell_type": "code",
   "execution_count": 8,
   "id": "878a130d-e278-4630-92f4-01ffb22d4f4b",
   "metadata": {},
   "outputs": [],
   "source": [
    "from pyspark.sql import SparkSession\n",
    "spark = (SparkSession.builder.appName(\"cs544\")\n",
    "         .master(\"spark://boss:7077\")\n",
    "         .config(\"spark.executor.memory\", \"512M\")\n",
    "         .config(\"spark.sql.warehouse.dir\", \"hdfs://nn:9000/user/hive/warehouse\")\n",
    "         .enableHiveSupport()\n",
    "         .getOrCreate())"
   ]
  },
  {
   "cell_type": "code",
   "execution_count": 9,
   "id": "618e69ae-9532-4252-9d88-de20be400daf",
   "metadata": {},
   "outputs": [
    {
     "name": "stderr",
     "output_type": "stream",
     "text": [
      "                                                                                \r"
     ]
    },
    {
     "data": {
      "text/plain": [
       "106"
      ]
     },
     "execution_count": 9,
     "metadata": {},
     "output_type": "execute_result"
    }
   ],
   "source": [
    "#q1\n",
    "banks_df = spark.read.option(\"header\", \"true\").option(\"inferSchema\", \"true\").csv(\"hdfs://nn:9000/arid2017_to_lei_xref_csv.csv\")\n",
    "count = banks_df.rdd.filter(lambda row: \"The\" in row['respondent_name'] and \"National\" in row['respondent_name']).count()\n",
    "count"
   ]
  },
  {
   "cell_type": "code",
   "execution_count": 10,
   "id": "e1e4adfb-00f9-490c-b180-575ea793607f",
   "metadata": {},
   "outputs": [
    {
     "name": "stderr",
     "output_type": "stream",
     "text": [
      "                                                                                \r"
     ]
    },
    {
     "data": {
      "text/plain": [
       "106"
      ]
     },
     "execution_count": 10,
     "metadata": {},
     "output_type": "execute_result"
    }
   ],
   "source": [
    "#q2\n",
    "count = banks_df.filter(banks_df['respondent_name'].contains(\"The\") & banks_df['respondent_name'].contains(\"National\")).count()\n",
    "count"
   ]
  },
  {
   "cell_type": "code",
   "execution_count": 11,
   "id": "ee7b3c4f-d08f-4cca-9e1b-debeb12e5c4e",
   "metadata": {},
   "outputs": [
    {
     "name": "stderr",
     "output_type": "stream",
     "text": [
      "24/04/05 23:12:38 WARN HiveConf: HiveConf of name hive.stats.jdbc.timeout does not exist\n",
      "24/04/05 23:12:38 WARN HiveConf: HiveConf of name hive.stats.retries.wait does not exist\n",
      "24/04/05 23:12:43 WARN ObjectStore: Version information not found in metastore. hive.metastore.schema.verification is not enabled so recording the schema version 2.3.0\n",
      "24/04/05 23:12:43 WARN ObjectStore: setMetaStoreSchemaVersion called but recording version is disabled: version = 2.3.0, comment = Set by MetaStore UNKNOWN@192.168.160.3\n",
      "24/04/05 23:12:45 WARN HadoopFSUtils: The directory hdfs://nn:9000/user/hive/warehouse/banks was not found. Was it deleted very recently?\n",
      "24/04/05 23:12:45 WARN ObjectStore: Failed to get database global_temp, returning NoSuchObjectException\n",
      "24/04/05 23:12:46 WARN FileUtils: File does not exist: hdfs://nn:9000/user/hive/warehouse/banks; Force to delete it.\n",
      "24/04/05 23:12:46 ERROR FileUtils: Failed to delete hdfs://nn:9000/user/hive/warehouse/banks\n",
      "24/04/05 23:12:49 WARN SessionState: METASTORE_FILTER_HOOK will be ignored, since hive.security.authorization.manager is set to instance of HiveAuthorizerFactory.\n",
      "24/04/05 23:12:49 WARN HiveConf: HiveConf of name hive.internal.ss.authz.settings.applied.marker does not exist\n",
      "24/04/05 23:12:49 WARN HiveConf: HiveConf of name hive.stats.jdbc.timeout does not exist\n",
      "24/04/05 23:12:49 WARN HiveConf: HiveConf of name hive.stats.retries.wait does not exist\n"
     ]
    }
   ],
   "source": [
    "banks_df.write.saveAsTable(\"banks\", mode=\"overwrite\")"
   ]
  },
  {
   "cell_type": "code",
   "execution_count": 13,
   "id": "0b15ae26-b157-42d6-ae0d-8bb4195f9462",
   "metadata": {},
   "outputs": [
    {
     "data": {
      "text/plain": [
       "106"
      ]
     },
     "execution_count": 13,
     "metadata": {},
     "output_type": "execute_result"
    }
   ],
   "source": [
    "#q3\n",
    "result = spark.sql(\"SELECT COUNT(*) as count FROM banks WHERE respondent_name LIKE '%The%' AND respondent_name LIKE '%National%'\")\n",
    "count = result.collect()[0]['count']\n",
    "count"
   ]
  },
  {
   "cell_type": "code",
   "execution_count": 14,
   "id": "f7c6ef69-f020-4fa0-8b2f-c24bdc18ffe5",
   "metadata": {},
   "outputs": [
    {
     "name": "stderr",
     "output_type": "stream",
     "text": [
      "24/04/06 00:10:23 WARN HadoopFSUtils: The directory hdfs://nn:9000/user/hive/warehouse/loans was not found. Was it deleted very recently?\n",
      "24/04/06 00:10:24 WARN FileUtils: File does not exist: hdfs://nn:9000/user/hive/warehouse/loans; Force to delete it.\n",
      "24/04/06 00:10:24 ERROR FileUtils: Failed to delete hdfs://nn:9000/user/hive/warehouse/loans\n",
      "24/04/06 00:10:24 WARN SparkStringUtils: Truncated the string representation of a plan since it was too large. This behavior can be adjusted by setting 'spark.sql.debug.maxToStringFields'.\n",
      "                                                                                \r"
     ]
    },
    {
     "name": "stdout",
     "output_type": "stream",
     "text": [
      "Found 17 items\n",
      "-rw-r--r--   3 root supergroup          0 2024-04-06 00:10 hdfs://nn:9000/user/hive/warehouse/loans/_SUCCESS\n",
      "-rw-r--r--   3 root supergroup     601787 2024-04-06 00:10 hdfs://nn:9000/user/hive/warehouse/loans/part-00000-06af475e-df01-47c1-aa71-5e138080d835_00000.c000.snappy.parquet\n",
      "-rw-r--r--   3 root supergroup     981619 2024-04-06 00:10 hdfs://nn:9000/user/hive/warehouse/loans/part-00000-06af475e-df01-47c1-aa71-5e138080d835_00001.c000.snappy.parquet\n",
      "-rw-r--r--   3 root supergroup     844536 2024-04-06 00:10 hdfs://nn:9000/user/hive/warehouse/loans/part-00000-06af475e-df01-47c1-aa71-5e138080d835_00002.c000.snappy.parquet\n",
      "-rw-r--r--   3 root supergroup     687680 2024-04-06 00:10 hdfs://nn:9000/user/hive/warehouse/loans/part-00000-06af475e-df01-47c1-aa71-5e138080d835_00003.c000.snappy.parquet\n",
      "-rw-r--r--   3 root supergroup     894712 2024-04-06 00:10 hdfs://nn:9000/user/hive/warehouse/loans/part-00000-06af475e-df01-47c1-aa71-5e138080d835_00004.c000.snappy.parquet\n",
      "-rw-r--r--   3 root supergroup     510312 2024-04-06 00:10 hdfs://nn:9000/user/hive/warehouse/loans/part-00000-06af475e-df01-47c1-aa71-5e138080d835_00005.c000.snappy.parquet\n",
      "-rw-r--r--   3 root supergroup    3058297 2024-04-06 00:10 hdfs://nn:9000/user/hive/warehouse/loans/part-00000-06af475e-df01-47c1-aa71-5e138080d835_00006.c000.snappy.parquet\n",
      "-rw-r--r--   3 root supergroup    1279085 2024-04-06 00:10 hdfs://nn:9000/user/hive/warehouse/loans/part-00000-06af475e-df01-47c1-aa71-5e138080d835_00007.c000.snappy.parquet\n",
      "-rw-r--r--   3 root supergroup     687725 2024-04-06 00:10 hdfs://nn:9000/user/hive/warehouse/loans/part-00001-06af475e-df01-47c1-aa71-5e138080d835_00000.c000.snappy.parquet\n",
      "-rw-r--r--   3 root supergroup    1007146 2024-04-06 00:10 hdfs://nn:9000/user/hive/warehouse/loans/part-00001-06af475e-df01-47c1-aa71-5e138080d835_00001.c000.snappy.parquet\n",
      "-rw-r--r--   3 root supergroup     642353 2024-04-06 00:10 hdfs://nn:9000/user/hive/warehouse/loans/part-00001-06af475e-df01-47c1-aa71-5e138080d835_00002.c000.snappy.parquet\n",
      "-rw-r--r--   3 root supergroup     697374 2024-04-06 00:10 hdfs://nn:9000/user/hive/warehouse/loans/part-00001-06af475e-df01-47c1-aa71-5e138080d835_00003.c000.snappy.parquet\n",
      "-rw-r--r--   3 root supergroup     926560 2024-04-06 00:10 hdfs://nn:9000/user/hive/warehouse/loans/part-00001-06af475e-df01-47c1-aa71-5e138080d835_00004.c000.snappy.parquet\n",
      "-rw-r--r--   3 root supergroup     585660 2024-04-06 00:10 hdfs://nn:9000/user/hive/warehouse/loans/part-00001-06af475e-df01-47c1-aa71-5e138080d835_00005.c000.snappy.parquet\n",
      "-rw-r--r--   3 root supergroup    2823827 2024-04-06 00:10 hdfs://nn:9000/user/hive/warehouse/loans/part-00001-06af475e-df01-47c1-aa71-5e138080d835_00006.c000.snappy.parquet\n",
      "-rw-r--r--   3 root supergroup    1453399 2024-04-06 00:10 hdfs://nn:9000/user/hive/warehouse/loans/part-00001-06af475e-df01-47c1-aa71-5e138080d835_00007.c000.snappy.parquet\n"
     ]
    }
   ],
   "source": [
    "loans_df = spark.read.option(\"header\", \"true\").option(\"inferSchema\", \"true\").csv(\"hdfs://nn:9000/hdma-wi-2021.csv\")\n",
    "loans_df.write.bucketBy(8, \"county_code\").saveAsTable(\"loans\", format=\"parquet\", mode=\"overwrite\")\n",
    "!hdfs dfs -ls hdfs://nn:9000/user/hive/warehouse/loans"
   ]
  },
  {
   "cell_type": "code",
   "execution_count": 15,
   "id": "bc696d4d-5412-4ad2-ae2c-b07a3ae836ad",
   "metadata": {},
   "outputs": [
    {
     "name": "stderr",
     "output_type": "stream",
     "text": [
      "                                                                                \r"
     ]
    }
   ],
   "source": [
    "datasets = [\n",
    "    \"ethnicity\", \"race\", \"sex\", \"states\", \"counties\", \"tracts\", \"action_taken\",\n",
    "     \"denial_reason\", \"loan_type\", \"loan_purpose\", \"preapproval\", \"property_type\"\n",
    "]\n",
    "\n",
    "for dataset in datasets:\n",
    "    df = spark.read.option(\"header\", \"true\").option(\"inferSchema\", \"true\").csv(f\"hdfs://nn:9000/{dataset}.csv\")\n",
    "    df.createOrReplaceTempView(dataset)"
   ]
  },
  {
   "cell_type": "code",
   "execution_count": 16,
   "id": "810379ac-2e13-4158-b52d-d9875a3e0fc6",
   "metadata": {},
   "outputs": [
    {
     "data": {
      "text/plain": [
       "{'banks': False,\n",
       " 'loans': False,\n",
       " 'action_taken': True,\n",
       " 'counties': True,\n",
       " 'denial_reason': True,\n",
       " 'ethnicity': True,\n",
       " 'loan_purpose': True,\n",
       " 'loan_type': True,\n",
       " 'preapproval': True,\n",
       " 'property_type': True,\n",
       " 'race': True,\n",
       " 'sex': True,\n",
       " 'states': True,\n",
       " 'tracts': True}"
      ]
     },
     "execution_count": 16,
     "metadata": {},
     "output_type": "execute_result"
    }
   ],
   "source": [
    "#q4\n",
    "tables_df = spark.sql(\"SHOW TABLES\")\n",
    "tables_list = tables_df.collect()\n",
    "table_dict = {row.tableName: row.isTemporary for row in tables_list}\n",
    "table_dict"
   ]
  },
  {
   "cell_type": "code",
   "execution_count": 17,
   "id": "6cdad991-1312-49c6-99d9-e59233e9d6e7",
   "metadata": {},
   "outputs": [
    {
     "name": "stderr",
     "output_type": "stream",
     "text": [
      "                                                                                \r"
     ]
    },
    {
     "data": {
      "text/plain": [
       "6"
      ]
     },
     "execution_count": 17,
     "metadata": {},
     "output_type": "execute_result"
    }
   ],
   "source": [
    "#q5\n",
    "query = \"\"\"\n",
    "SELECT COUNT(*) AS loan_applications_count\n",
    "FROM loans\n",
    "INNER JOIN banks ON loans.lei = banks.lei_2020\n",
    "WHERE banks.respondent_name = 'First National Bank'\n",
    "\"\"\"\n",
    "\n",
    "result = spark.sql(query)\n",
    "loan_applications_count = result.collect()[0]['loan_applications_count']\n",
    "loan_applications_count"
   ]
  },
  {
   "cell_type": "code",
   "execution_count": 18,
   "id": "e032aa30-fd72-4e8c-b3e2-b08223de2ab9",
   "metadata": {},
   "outputs": [
    {
     "name": "stdout",
     "output_type": "stream",
     "text": [
      "== Physical Plan ==\n",
      "AdaptiveSparkPlan (25)\n",
      "+- == Final Plan ==\n",
      "   * HashAggregate (15)\n",
      "   +- ShuffleQueryStage (14), Statistics(sizeInBytes=32.0 B, rowCount=2)\n",
      "      +- Exchange (13)\n",
      "         +- * HashAggregate (12)\n",
      "            +- * Project (11)\n",
      "               +- * BroadcastHashJoin Inner BuildRight (10)\n",
      "                  :- * Filter (3)\n",
      "                  :  +- * ColumnarToRow (2)\n",
      "                  :     +- Scan parquet spark_catalog.default.loans (1)\n",
      "                  +- BroadcastQueryStage (9), Statistics(sizeInBytes=8.0 MiB, rowCount=8)\n",
      "                     +- BroadcastExchange (8)\n",
      "                        +- * Project (7)\n",
      "                           +- * Filter (6)\n",
      "                              +- * ColumnarToRow (5)\n",
      "                                 +- Scan parquet spark_catalog.default.banks (4)\n",
      "+- == Initial Plan ==\n",
      "   HashAggregate (24)\n",
      "   +- Exchange (23)\n",
      "      +- HashAggregate (22)\n",
      "         +- Project (21)\n",
      "            +- BroadcastHashJoin Inner BuildRight (20)\n",
      "               :- Filter (16)\n",
      "               :  +- Scan parquet spark_catalog.default.loans (1)\n",
      "               +- BroadcastExchange (19)\n",
      "                  +- Project (18)\n",
      "                     +- Filter (17)\n",
      "                        +- Scan parquet spark_catalog.default.banks (4)\n",
      "\n",
      "\n",
      "(1) Scan parquet spark_catalog.default.loans\n",
      "Output [1]: [lei#994]\n",
      "Batched: true\n",
      "Bucketed: false (bucket column(s) not read)\n",
      "Location: InMemoryFileIndex [hdfs://nn:9000/user/hive/warehouse/loans]\n",
      "PushedFilters: [IsNotNull(lei)]\n",
      "ReadSchema: struct<lei:string>\n",
      "\n",
      "(2) ColumnarToRow [codegen id : 2]\n",
      "Input [1]: [lei#994]\n",
      "\n",
      "(3) Filter [codegen id : 2]\n",
      "Input [1]: [lei#994]\n",
      "Condition : isnotnull(lei#994)\n",
      "\n",
      "(4) Scan parquet spark_catalog.default.banks\n",
      "Output [2]: [respondent_name#66, lei_2020#70]\n",
      "Batched: true\n",
      "Location: InMemoryFileIndex [hdfs://nn:9000/user/hive/warehouse/banks]\n",
      "PushedFilters: [IsNotNull(respondent_name), EqualTo(respondent_name,First National Bank), IsNotNull(lei_2020)]\n",
      "ReadSchema: struct<respondent_name:string,lei_2020:string>\n",
      "\n",
      "(5) ColumnarToRow [codegen id : 1]\n",
      "Input [2]: [respondent_name#66, lei_2020#70]\n",
      "\n",
      "(6) Filter [codegen id : 1]\n",
      "Input [2]: [respondent_name#66, lei_2020#70]\n",
      "Condition : ((isnotnull(respondent_name#66) AND (respondent_name#66 = First National Bank)) AND isnotnull(lei_2020#70))\n",
      "\n",
      "(7) Project [codegen id : 1]\n",
      "Output [1]: [lei_2020#70]\n",
      "Input [2]: [respondent_name#66, lei_2020#70]\n",
      "\n",
      "(8) BroadcastExchange\n",
      "Input [1]: [lei_2020#70]\n",
      "Arguments: HashedRelationBroadcastMode(List(input[0, string, true]),false), [plan_id=562]\n",
      "\n",
      "(9) BroadcastQueryStage\n",
      "Output [1]: [lei_2020#70]\n",
      "Arguments: 0\n",
      "\n",
      "(10) BroadcastHashJoin [codegen id : 2]\n",
      "Left keys [1]: [lei#994]\n",
      "Right keys [1]: [lei_2020#70]\n",
      "Join type: Inner\n",
      "Join condition: None\n",
      "\n",
      "(11) Project [codegen id : 2]\n",
      "Output: []\n",
      "Input [2]: [lei#994, lei_2020#70]\n",
      "\n",
      "(12) HashAggregate [codegen id : 2]\n",
      "Input: []\n",
      "Keys: []\n",
      "Functions [1]: [partial_count(1)]\n",
      "Aggregate Attributes [1]: [count#1094L]\n",
      "Results [1]: [count#1095L]\n",
      "\n",
      "(13) Exchange\n",
      "Input [1]: [count#1095L]\n",
      "Arguments: SinglePartition, ENSURE_REQUIREMENTS, [plan_id=620]\n",
      "\n",
      "(14) ShuffleQueryStage\n",
      "Output [1]: [count#1095L]\n",
      "Arguments: 1\n",
      "\n",
      "(15) HashAggregate [codegen id : 3]\n",
      "Input [1]: [count#1095L]\n",
      "Keys: []\n",
      "Functions [1]: [count(1)]\n",
      "Aggregate Attributes [1]: [count(1)#992L]\n",
      "Results [1]: [count(1)#992L AS loan_applications_count#991L]\n",
      "\n",
      "(16) Filter\n",
      "Input [1]: [lei#994]\n",
      "Condition : isnotnull(lei#994)\n",
      "\n",
      "(17) Filter\n",
      "Input [2]: [respondent_name#66, lei_2020#70]\n",
      "Condition : ((isnotnull(respondent_name#66) AND (respondent_name#66 = First National Bank)) AND isnotnull(lei_2020#70))\n",
      "\n",
      "(18) Project\n",
      "Output [1]: [lei_2020#70]\n",
      "Input [2]: [respondent_name#66, lei_2020#70]\n",
      "\n",
      "(19) BroadcastExchange\n",
      "Input [1]: [lei_2020#70]\n",
      "Arguments: HashedRelationBroadcastMode(List(input[0, string, true]),false), [plan_id=531]\n",
      "\n",
      "(20) BroadcastHashJoin\n",
      "Left keys [1]: [lei#994]\n",
      "Right keys [1]: [lei_2020#70]\n",
      "Join type: Inner\n",
      "Join condition: None\n",
      "\n",
      "(21) Project\n",
      "Output: []\n",
      "Input [2]: [lei#994, lei_2020#70]\n",
      "\n",
      "(22) HashAggregate\n",
      "Input: []\n",
      "Keys: []\n",
      "Functions [1]: [partial_count(1)]\n",
      "Aggregate Attributes [1]: [count#1094L]\n",
      "Results [1]: [count#1095L]\n",
      "\n",
      "(23) Exchange\n",
      "Input [1]: [count#1095L]\n",
      "Arguments: SinglePartition, ENSURE_REQUIREMENTS, [plan_id=536]\n",
      "\n",
      "(24) HashAggregate\n",
      "Input [1]: [count#1095L]\n",
      "Keys: []\n",
      "Functions [1]: [count(1)]\n",
      "Aggregate Attributes [1]: [count(1)#992L]\n",
      "Results [1]: [count(1)#992L AS loan_applications_count#991L]\n",
      "\n",
      "(25) AdaptiveSparkPlan\n",
      "Output [1]: [loan_applications_count#991L]\n",
      "Arguments: isFinalPlan=true\n",
      "\n",
      "\n"
     ]
    }
   ],
   "source": [
    "#q6\n",
    "result.explain(\"formatted\")\n",
    "# 1.) Spark chose to broadcast the smaller table involved in the join.\n",
    "# 2.) This operation is used to aggregate data based on hashing, whic is common for operations like COUNT, SUM, AVG, etc. "
   ]
  },
  {
   "cell_type": "code",
   "execution_count": 20,
   "id": "ebc2c90c-27d3-4122-86b9-309ff0921261",
   "metadata": {},
   "outputs": [
    {
     "name": "stderr",
     "output_type": "stream",
     "text": [
      "                                                                                \r"
     ]
    }
   ],
   "source": [
    "wells_fargo_loans = \"\"\"\n",
    "SELECT counties.NAME AS county_name, AVG(loans.loan_amount) AS avg_loan_amount\n",
    "FROM loans\n",
    "JOIN banks ON loans.lei = banks.lei_2020\n",
    "JOIN counties ON loans.county_code = counties.STATE*1000 + counties.COUNTY\n",
    "WHERE banks.respondent_name LIKE '%Wells Fargo%'\n",
    "GROUP BY counties.NAME\n",
    "ORDER BY avg_loan_amount DESC\n",
    "LIMIT 10\n",
    "\"\"\"\n",
    "\n",
    "top_counties = spark.sql(wells_fargo_loans).collect()\n",
    "top_county_names = [row['county_name'] for row in top_counties]"
   ]
  },
  {
   "cell_type": "code",
   "execution_count": 21,
   "id": "1da702c1-12df-4cec-9f28-ebb37eca3a63",
   "metadata": {},
   "outputs": [
    {
     "name": "stderr",
     "output_type": "stream",
     "text": [
      "                                                                                \r"
     ]
    }
   ],
   "source": [
    "applications_count_query = f\"\"\"\n",
    "SELECT counties.NAME AS county_name, COUNT(*) AS application_count\n",
    "FROM loans\n",
    "JOIN banks ON loans.lei = banks.lei_2020\n",
    "JOIN counties ON loans.county_code = counties.STATE*1000 + counties.COUNTY\n",
    "WHERE banks.respondent_name LIKE '%Wells Fargo%'\n",
    "AND counties.NAME IN ({','.join([\"'\" + name + \"'\" for name in top_county_names])})\n",
    "GROUP BY counties.NAME\n",
    "\"\"\"\n",
    "\n",
    "applications_count = spark.sql(applications_count_query).collect()"
   ]
  },
  {
   "cell_type": "code",
   "execution_count": 23,
   "id": "49ac8db3-983e-4243-aea4-1a4ab6b63b43",
   "metadata": {},
   "outputs": [
    {
     "data": {
      "image/png": "[encoded data removed]",
      "text/plain": [
       "<Figure size 1000x600 with 1 Axes>"
      ]
     },
     "metadata": {},
     "output_type": "display_data"
    },
    {
     "data": {
      "text/plain": [
       "{'Oneida': 70,\n",
       " 'Vilas': 68,\n",
       " 'Waukesha': 1832,\n",
       " 'Forest': 7,\n",
       " 'Bayfield': 33,\n",
       " 'Ozaukee': 389,\n",
       " 'Dane': 729,\n",
       " 'Florence': 8,\n",
       " 'Door': 174,\n",
       " 'Sawyer': 38}"
      ]
     },
     "execution_count": 23,
     "metadata": {},
     "output_type": "execute_result"
    }
   ],
   "source": [
    "#q7\n",
    "result_dict = {}\n",
    "for row in applications_count:\n",
    "    result_dict[row['county_name']] = row['application_count']\n",
    "\n",
    "import matplotlib.pyplot as plt\n",
    "\n",
    "names = list(result_dict.keys())\n",
    "values = list(result_dict.values())\n",
    "\n",
    "plt.figure(figsize=(10, 6))\n",
    "plt.bar(names, values, width=0.4)\n",
    "plt.xticks(rotation=45, ha='right')\n",
    "plt.xlabel('County')\n",
    "plt.ylabel('Number of Applications')\n",
    "plt.title('Wells Fargo Loan Applications Count by County')\n",
    "plt.tight_layout()\n",
    "plt.show()\n",
    "\n",
    "result_dict"
   ]
  },
  {
   "cell_type": "code",
   "execution_count": 25,
   "id": "5f573b51-b47c-4b51-afb3-5da998f57102",
   "metadata": {},
   "outputs": [
    {
     "name": "stdout",
     "output_type": "stream",
     "text": [
      "== Physical Plan ==\n",
      "AdaptiveSparkPlan isFinalPlan=false\n",
      "+- HashAggregate(keys=[county_code#997], functions=[avg(loan_amount#1014)])\n",
      "   +- HashAggregate(keys=[county_code#997], functions=[partial_avg(loan_amount#1014)])\n",
      "      +- FileScan parquet spark_catalog.default.loans[county_code#997,loan_amount#1014] Batched: true, Bucketed: true, DataFilters: [], Format: Parquet, Location: InMemoryFileIndex(1 paths)[hdfs://nn:9000/user/hive/warehouse/loans], PartitionFilters: [], PushedFilters: [], ReadSchema: struct<county_code:string,loan_amount:double>, SelectedBucketsCount: 8 out of 8\n",
      "\n",
      "\n",
      "== Physical Plan ==\n",
      "AdaptiveSparkPlan isFinalPlan=false\n",
      "+- HashAggregate(keys=[lei#994], functions=[avg(loan_amount#1014)])\n",
      "   +- Exchange hashpartitioning(lei#994, 200), ENSURE_REQUIREMENTS, [plan_id=1191]\n",
      "      +- HashAggregate(keys=[lei#994], functions=[partial_avg(loan_amount#1014)])\n",
      "         +- FileScan parquet spark_catalog.default.loans[lei#994,loan_amount#1014] Batched: true, Bucketed: false (bucket column(s) not read), DataFilters: [], Format: Parquet, Location: InMemoryFileIndex(1 paths)[hdfs://nn:9000/user/hive/warehouse/loans], PartitionFilters: [], PushedFilters: [], ReadSchema: struct<lei:string,loan_amount:double>\n",
      "\n",
      "\n"
     ]
    }
   ],
   "source": [
    "# Group by county_code\n",
    "county = spark.table(\"loans\").groupBy(\"county_code\").mean(\"loan_amount\")\n",
    "county.explain()\n",
    "\n",
    "# Group by lei\n",
    "lei = spark.table(\"loans\").groupBy(\"lei\").mean(\"loan_amount\")\n",
    "lei.explain()"
   ]
  },
  {
   "cell_type": "code",
   "execution_count": 17,
   "id": "ae6828a1-86fb-4cf2-a9cd-e62fa31e1296",
   "metadata": {},
   "outputs": [],
   "source": [
    "#q8\n",
    "# If the loans table was bucketed by county_code when saved to Hive, then grouping by county_code would not\n",
    "# require a shuffle because the data is already partitioned by that key. However, grouping by lei would require\n",
    "# shuffling because the data isn't partitioned by lei, and Spark needs to redistribute the data to calculate the mean."
   ]
  },
  {
   "cell_type": "code",
   "execution_count": 28,
   "id": "5b5d53d8-425a-4862-b958-e6d552c62c00",
   "metadata": {},
   "outputs": [
    {
     "name": "stderr",
     "output_type": "stream",
     "text": [
      "24/04/06 00:43:28 WARN CacheManager: Asked to cache already cached data.\n"
     ]
    },
    {
     "data": {
      "text/plain": [
       "242713"
      ]
     },
     "execution_count": 28,
     "metadata": {},
     "output_type": "execute_result"
    }
   ],
   "source": [
    "#q9\n",
    "from pyspark.sql.functions import col, when\n",
    "\n",
    "df = spark.sql(\"SELECT loan_amount, income, interest_rate, action_taken as approval FROM loans\")\n",
    "\n",
    "df = df.na.fill(0.0, subset=[\"loan_amount\", \"income\", \"interest_rate\", \"approval\"])\n",
    "train, test = df.randomSplit([0.8, 0.2], seed=41)\n",
    "\n",
    "train.cache()\n",
    "\n",
    "approved_loans_count = train.where(col(\"approval\") == 1).count()\n",
    "\n",
    "approved_loans_count"
   ]
  },
  {
   "cell_type": "code",
   "execution_count": 30,
   "id": "e48cab68-f4c0-4dc0-970f-80c4c189edc5",
   "metadata": {},
   "outputs": [
    {
     "name": "stderr",
     "output_type": "stream",
     "text": [
      "24/04/06 00:52:42 WARN CacheManager: Asked to cache already cached data.\n",
      "                                                                                \r"
     ]
    },
    {
     "data": {
      "text/plain": [
       "1.0"
      ]
     },
     "execution_count": 30,
     "metadata": {},
     "output_type": "execute_result"
    }
   ],
   "source": [
    "#q10\n",
    "from pyspark.ml.feature import VectorAssembler\n",
    "from pyspark.ml.classification import RandomForestClassifier\n",
    "\n",
    "df = spark.sql(\"\"\"\n",
    "    SELECT CAST(loan_amount AS DOUBLE),\n",
    "           CAST(income AS DOUBLE),\n",
    "           CAST(interest_rate AS DOUBLE),\n",
    "           CASE WHEN action_taken = 'Loan originated' THEN 1.0 ELSE 0.0 END AS approval\n",
    "    FROM loans\n",
    "\"\"\")\n",
    "\n",
    "df = df.na.fill(0.0, subset=[\"loan_amount\", \"income\", \"interest_rate\", \"approval\"])\n",
    "train, test = df.randomSplit([0.8, 0.2], seed=41)\n",
    "\n",
    "train.cache()\n",
    "\n",
    "features = ['loan_amount', 'income', 'interest_rate']\n",
    "assembler = VectorAssembler(inputCols=features, outputCol=\"features\")\n",
    "train = assembler.transform(train).select(\"features\", col(\"approval\").alias(\"label\"))\n",
    "test = assembler.transform(test).select(\"features\", col(\"approval\").alias(\"label\"))\n",
    "\n",
    "rf = RandomForestClassifier(numTrees=10, labelCol=\"label\", featuresCol=\"features\")\n",
    "\n",
    "rf_model = rf.fit(train)\n",
    "\n",
    "predictions = rf_model.transform(test)\n",
    "\n",
    "correct_predictions = predictions.where(predictions.label == predictions.prediction).count()\n",
    "total_predictions = predictions.count()\n",
    "accuracy = correct_predictions / total_predictions\n",
    "\n",
    "accuracy"
   ]
  },
  {
   "cell_type": "code",
   "execution_count": null,
   "id": "8a6ed7df-87e7-4aa7-8256-bd19b1e449c6",
   "metadata": {},
   "outputs": [],
   "source": []
  }
 ],
 "metadata": {
  "kernelspec": {
   "display_name": "Python 3 (ipykernel)",
   "language": "python",
   "name": "python3"
  },
  "language_info": {
   "codemirror_mode": {
    "name": "ipython",
    "version": 3
   },
   "file_extension": ".py",
   "mimetype": "text/x-python",
   "name": "python",
   "nbconvert_exporter": "python",
   "pygments_lexer": "ipython3",
   "version": "3.10.12"
  }
 },
 "nbformat": 4,
 "nbformat_minor": 5
}
